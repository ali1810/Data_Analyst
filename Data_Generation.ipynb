{
  "nbformat": 4,
  "nbformat_minor": 0,
  "metadata": {
    "colab": {
      "name": "Data_Generation.ipynb",
      "provenance": [],
      "collapsed_sections": [],
      "authorship_tag": "ABX9TyPY9gI1SyyRLrKtYvHsGtQq",
      "include_colab_link": true
    },
    "kernelspec": {
      "name": "python3",
      "display_name": "Python 3"
    },
    "language_info": {
      "name": "python"
    }
  },
  "cells": [
    {
      "cell_type": "markdown",
      "metadata": {
        "id": "view-in-github",
        "colab_type": "text"
      },
      "source": [
        "<a href=\"https://colab.research.google.com/github/ali1810/Data_Analyst/blob/main/Data_Generation.ipynb\" target=\"_parent\"><img src=\"https://colab.research.google.com/assets/colab-badge.svg\" alt=\"Open In Colab\"/></a>"
      ]
    },
    {
      "cell_type": "code",
      "metadata": {
        "id": "oS9s01gJCrCg"
      },
      "source": [
        "def Randfrac(start,end,rnd,num):\n",
        "  random_float_list = []\n",
        "# Set a length of the list to 10\n",
        "  for i in range(0,num):\n",
        "  # any random float between 50.50 to 500.50\n",
        "  # don't use round() if you need number as it is\n",
        "    x = round(random.uniform(start, end), rnd)\n",
        "    random_float_list.append(x)\n",
        "  return random_float_list"
      ],
      "execution_count": 63,
      "outputs": []
    },
    {
      "cell_type": "code",
      "metadata": {
        "id": "fzmOP9LOFe2Y"
      },
      "source": [
        "Vibration = Randfrac(1,10,2,10000)\n",
        "df2 = pd.DataFrame({'Vibration':Vibration})\n",
        "\n",
        "#print(Vibration)"
      ],
      "execution_count": 65,
      "outputs": []
    },
    {
      "cell_type": "code",
      "metadata": {
        "id": "BHAOk_a35-tO"
      },
      "source": [
        "import random\n",
        "def Rand(start, end, num,diff):\n",
        "    res = []\n",
        " \n",
        "    for j in range(num):\n",
        "        res.append(random.randrange(start, end,diff))\n",
        " \n",
        "    return res"
      ],
      "execution_count": 32,
      "outputs": []
    },
    {
      "cell_type": "code",
      "metadata": {
        "id": "ysIIB2967odk"
      },
      "source": [
        "temp= Rand(15,25,10000,2)\n",
        "#print(temp)\n",
        "#type(temp)"
      ],
      "execution_count": 67,
      "outputs": []
    },
    {
      "cell_type": "code",
      "metadata": {
        "id": "qjAJcZ-V8Ry-"
      },
      "source": [
        "pressure=Rand(45,60,10000,2)\n",
        "#print(pressure)"
      ],
      "execution_count": 69,
      "outputs": []
    },
    {
      "cell_type": "code",
      "metadata": {
        "colab": {
          "base_uri": "https://localhost:8080/"
        },
        "id": "3MnB8VX59y_k",
        "outputId": "42f6138c-ea7d-47d3-bd8f-4d854fe2fede"
      },
      "source": [
        "import pandas as pd \n",
        "#create new df \n",
        "df = pd.DataFrame({'Pressure':pressure})\n",
        "df1 = pd.DataFrame({'Temp':temp})\n",
        "frames = [df, df1,df2]\n",
        "  \n",
        "df_final = pd.concat(frames, axis=1)\n",
        "print (df_final)\n",
        "\n"
      ],
      "execution_count": 70,
      "outputs": [
        {
          "output_type": "stream",
          "name": "stdout",
          "text": [
            "      Pressure  Temp  Vibration\n",
            "0           53    21       2.00\n",
            "1           57    15       8.43\n",
            "2           51    15       3.47\n",
            "3           55    21       1.81\n",
            "4           59    21       1.23\n",
            "...        ...   ...        ...\n",
            "9995        59    23       6.62\n",
            "9996        47    19       2.29\n",
            "9997        51    17       1.13\n",
            "9998        45    19       3.66\n",
            "9999        57    21       9.19\n",
            "\n",
            "[10000 rows x 3 columns]\n"
          ]
        }
      ]
    }
  ]
}